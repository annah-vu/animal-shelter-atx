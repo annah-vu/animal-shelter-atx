{
 "cells": [
  {
   "cell_type": "code",
   "execution_count": 14,
   "id": "b78447cb-8eda-47cb-9e27-0febc3e38992",
   "metadata": {},
   "outputs": [],
   "source": [
    "#imports\n",
    "import pandas as pd\n",
    "import numpy as np"
   ]
  },
  {
   "cell_type": "code",
   "execution_count": null,
   "id": "9352c56c-d2c8-4363-a16d-b445620e5411",
   "metadata": {},
   "outputs": [],
   "source": [
    "#bring in data"
   ]
  },
  {
   "cell_type": "code",
   "execution_count": null,
   "id": "7d1325fa-59b5-43ae-bcf2-8b8a1316d1a5",
   "metadata": {},
   "outputs": [],
   "source": [
    "#bring in csv\n",
    "df = pd.read_csv('shelter_data/atxshelter2021.csv')"
   ]
  },
  {
   "cell_type": "code",
   "execution_count": null,
   "id": "8396da21-f949-4a1c-9028-56472dbd79b9",
   "metadata": {},
   "outputs": [],
   "source": [
    "#check df\n",
    "df"
   ]
  },
  {
   "cell_type": "code",
   "execution_count": null,
   "id": "aba32f29-bd54-4a8f-80a9-a38e900da830",
   "metadata": {},
   "outputs": [],
   "source": [
    "#all object types, I see\n",
    "df.dtypes"
   ]
  },
  {
   "cell_type": "code",
   "execution_count": null,
   "id": "f9894286-8ee4-4e63-b659-3da2a57bb4a3",
   "metadata": {},
   "outputs": [],
   "source": [
    "#look at entries where age is null\n",
    "df.loc[df.age_upon_outcome.isna()]"
   ]
  },
  {
   "cell_type": "code",
   "execution_count": null,
   "id": "40f44ae9-7e15-4c82-9e5a-7486a21df93c",
   "metadata": {},
   "outputs": [],
   "source": [
    "#age value counts\n",
    "df.age_upon_outcome.value_counts()"
   ]
  },
  {
   "cell_type": "code",
   "execution_count": null,
   "id": "66526246-f12b-4eed-ac16-7d6c566515f7",
   "metadata": {},
   "outputs": [],
   "source": [
    "#fill in nulls with 1 year (most common)\n",
    "df['age_upon_outcome'].fillna('1 year', inplace=True)"
   ]
  },
  {
   "cell_type": "code",
   "execution_count": null,
   "id": "ebfcce72-71aa-4056-8fdd-2111fc8ca2d2",
   "metadata": {},
   "outputs": [],
   "source": [
    "#no nulls\n",
    "df.age_upon_outcome.value_counts()"
   ]
  },
  {
   "cell_type": "code",
   "execution_count": null,
   "id": "bff473f8-acca-48c4-afd2-6bd738df5e50",
   "metadata": {},
   "outputs": [],
   "source": [
    "#outcome types\n",
    "df.outcome_type.value_counts()"
   ]
  },
  {
   "cell_type": "code",
   "execution_count": null,
   "id": "7bd9f7f9-1bed-494f-bf3c-aa8103056387",
   "metadata": {},
   "outputs": [],
   "source": [
    "#20 year old animals\n",
    "df.loc[df.age_upon_outcome =='20 years']"
   ]
  },
  {
   "cell_type": "code",
   "execution_count": null,
   "id": "d51455c8-c394-4669-b5d8-d5ae80bced1c",
   "metadata": {},
   "outputs": [],
   "source": []
  }
 ],
 "metadata": {
  "kernelspec": {
   "display_name": "Python 3",
   "language": "python",
   "name": "python3"
  },
  "language_info": {
   "codemirror_mode": {
    "name": "ipython",
    "version": 3
   },
   "file_extension": ".py",
   "mimetype": "text/x-python",
   "name": "python",
   "nbconvert_exporter": "python",
   "pygments_lexer": "ipython3",
   "version": "3.8.5"
  }
 },
 "nbformat": 4,
 "nbformat_minor": 5
}
